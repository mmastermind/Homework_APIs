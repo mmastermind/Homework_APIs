{
 "cells": [
  {
   "cell_type": "markdown",
   "metadata": {},
   "source": [
    "# WeatherPy\n",
    "----\n",
    "\n",
    "#### Note\n",
    "* Instructions have been included for each segment. You do not have to follow them exactly, but they are included to help you think through the steps."
   ]
  },
  {
   "cell_type": "code",
   "execution_count": 13,
   "metadata": {
    "scrolled": true
   },
   "outputs": [],
   "source": [
    "# Dependencies and Setup\n",
    "import matplotlib.pyplot as plt\n",
    "import pandas as pd\n",
    "import numpy as np\n",
    "import requests\n",
    "import time\n",
    "\n",
    "# Import API key\n",
    "#from config import key_INEGI\n",
    "from datetime import date\n",
    "print (INEGI)\n",
    "# Incorporated citipy to determine city based on latitude and longitude\n",
    "#from citipy import citipy\n",
    "\n",
    "# Output File (CSV)\n",
    "output_data_file = \"output_data/desempleo.csv\"\n",
    "\n",
    "# Save config information.\n",
    "url =\"https://www.inegi.org.mx/app/api/indicadores/desarrolladores/jsonxml/INDICATOR/5300000011/es/00000/true/BISE/2.0/9e669d3e-b27d-af8b-8dc3-91cf8e696809?type=json\"\n",
    "units = \"metric\"\n",
    "#https://www.inegi.org.mx/app/api/indicadores/desarrolladores/jsonxml/INDICATOR/1002000001/es/01/false/BISE/2.0/[Aquí va tu Token]type=json\n",
    "#http://history.openweathermap.org/data/2.5/history/city?q=London,UK\n",
    "\n",
    "# Build partial query URL\n",
    "#query_url = f\"{url}appid={key_weathermap}&units={units}&q=\"\n",
    "\n",
    "# Range of latitudes and longitudes\n",
    "lat_range = (-90, 90)\n",
    "lng_range = (-180, 180)"
   ]
  },
  {
   "cell_type": "markdown",
   "metadata": {},
   "source": [
    "## Generate Cities List"
   ]
  },
  {
   "cell_type": "code",
   "execution_count": 14,
   "metadata": {},
   "outputs": [
    {
     "data": {
      "text/plain": [
       "{'Header': {'Name': 'Datos compactos BISE',\n",
       "  'Email': 'atencion.usuarios@inegi.org.mx'},\n",
       " 'Series': [{'INDICADOR': '5300000011',\n",
       "   'FREQ': '7',\n",
       "   'TOPIC': '00700060',\n",
       "   'UNIT': '96',\n",
       "   'NOTE': '',\n",
       "   'SOURCE': '10,11,581',\n",
       "   'LASTUPDATE': None,\n",
       "   'OBSERVATIONS': [{'TIME_PERIOD': '2008',\n",
       "     'OBS_VALUE': '20116834.00000000000000000000',\n",
       "     'OBS_EXCEPTION': None,\n",
       "     'OBS_STATUS': '3',\n",
       "     'OBS_SOURCE': '',\n",
       "     'OBS_NOTE': '',\n",
       "     'COBER_GEO': '00'}]}]}"
      ]
     },
     "execution_count": 14,
     "metadata": {},
     "output_type": "execute_result"
    }
   ],
   "source": [
    "response = requests.get(url).json()\n",
    "response"
   ]
  },
  {
   "cell_type": "code",
   "execution_count": 16,
   "metadata": {},
   "outputs": [
    {
     "data": {
      "text/plain": [
       "{'Header': {'Name': 'Datos compactos BISE',\n",
       "  'Email': 'atencion.usuarios@inegi.org.mx'},\n",
       " 'Series': [{'INDICADOR': '5000000002',\n",
       "   'FREQ': '7',\n",
       "   'TOPIC': '00700060',\n",
       "   'UNIT': '96',\n",
       "   'NOTE': '379',\n",
       "   'SOURCE': '10,11,581',\n",
       "   'LASTUPDATE': None,\n",
       "   'OBSERVATIONS': [{'TIME_PERIOD': '2008',\n",
       "     'OBS_VALUE': '27727406.00000000000000000000',\n",
       "     'OBS_EXCEPTION': None,\n",
       "     'OBS_STATUS': '3',\n",
       "     'OBS_SOURCE': '',\n",
       "     'OBS_NOTE': '',\n",
       "     'COBER_GEO': '00'}]}]}"
      ]
     },
     "execution_count": 16,
     "metadata": {},
     "output_type": "execute_result"
    }
   ],
   "source": [
    "url2 =\"https://www.inegi.org.mx/app/api/indicadores/desarrolladores/jsonxml/INDICATOR/5000000002/es/00000/true/BISE/2.0/9e669d3e-b27d-af8b-8dc3-91cf8e696809?type=json\"\n",
    "response = requests.get(url2).json()\n",
    "response"
   ]
  },
  {
   "cell_type": "code",
   "execution_count": null,
   "metadata": {},
   "outputs": [],
   "source": []
  }
 ],
 "metadata": {
  "anaconda-cloud": {},
  "kernel_info": {
   "name": "python3"
  },
  "kernelspec": {
   "display_name": "Python 3",
   "language": "python",
   "name": "python3"
  },
  "language_info": {
   "codemirror_mode": {
    "name": "ipython",
    "version": 3
   },
   "file_extension": ".py",
   "mimetype": "text/x-python",
   "name": "python",
   "nbconvert_exporter": "python",
   "pygments_lexer": "ipython3",
   "version": "3.7.3"
  },
  "nteract": {
   "version": "0.12.3"
  }
 },
 "nbformat": 4,
 "nbformat_minor": 2
}
